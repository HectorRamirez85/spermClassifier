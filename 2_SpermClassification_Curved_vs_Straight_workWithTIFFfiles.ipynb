{
  "nbformat": 4,
  "nbformat_minor": 0,
  "metadata": {
    "accelerator": "GPU",
    "colab": {
      "name": "2-SpermClassification_Curved_vs_Straight_workWithTIFFfiles.ipynb",
      "provenance": [],
      "collapsed_sections": [],
      "include_colab_link": true
    },
    "kernelspec": {
      "display_name": "Python 3",
      "name": "python3"
    },
    "language_info": {
      "name": "python"
    }
  },
  "cells": [
    {
      "cell_type": "markdown",
      "metadata": {
        "id": "view-in-github",
        "colab_type": "text"
      },
      "source": [
        "<a href=\"https://colab.research.google.com/github/HectorRamirez85/spermClassifier/blob/main/2_SpermClassification_Curved_vs_Straight_workWithTIFFfiles.ipynb\" target=\"_parent\"><img src=\"https://colab.research.google.com/assets/colab-badge.svg\" alt=\"Open In Colab\"/></a>"
      ]
    },
    {
      "cell_type": "markdown",
      "metadata": {
        "id": "-i-UrRvVeDqq"
      },
      "source": [
        "Loading libraries..."
      ]
    },
    {
      "cell_type": "code",
      "metadata": {
        "colab": {
          "base_uri": "https://localhost:8080/",
          "height": 921
        },
        "id": "xbEEnLnvOAdt",
        "outputId": "11170443-ee0f-4bf7-bbeb-65e415fc2f6f"
      },
      "source": [
        "#hide\n",
        "!pip install -Uqq fastbook\n",
        "!pip uninstall fastai -y\n",
        "!pip install fastai"
      ],
      "execution_count": 6,
      "outputs": [
        {
          "output_type": "stream",
          "text": [
            "Uninstalling fastai-2.4:\n",
            "  Successfully uninstalled fastai-2.4\n",
            "Collecting fastai\n",
            "  Using cached https://files.pythonhosted.org/packages/bd/ca/bc9f4e04adcdfda1357f5c63bc67a7bf4f315883ca544726f3376b1ed068/fastai-2.4-py3-none-any.whl\n",
            "Requirement already satisfied: fastcore<1.4,>=1.3.8 in /usr/local/lib/python3.7/dist-packages (from fastai) (1.3.20)\n",
            "Requirement already satisfied: fastprogress>=0.2.4 in /usr/local/lib/python3.7/dist-packages (from fastai) (1.0.0)\n",
            "Requirement already satisfied: packaging in /usr/local/lib/python3.7/dist-packages (from fastai) (20.9)\n",
            "Requirement already satisfied: pip in /usr/local/lib/python3.7/dist-packages (from fastai) (19.3.1)\n",
            "Requirement already satisfied: matplotlib in /usr/local/lib/python3.7/dist-packages (from fastai) (3.2.2)\n",
            "Requirement already satisfied: scikit-learn in /usr/local/lib/python3.7/dist-packages (from fastai) (0.22.2.post1)\n",
            "Requirement already satisfied: scipy in /usr/local/lib/python3.7/dist-packages (from fastai) (1.4.1)\n",
            "Requirement already satisfied: requests in /usr/local/lib/python3.7/dist-packages (from fastai) (2.23.0)\n",
            "Requirement already satisfied: spacy<4 in /usr/local/lib/python3.7/dist-packages (from fastai) (2.2.4)\n",
            "Requirement already satisfied: torch<1.10,>=1.7.0 in /usr/local/lib/python3.7/dist-packages (from fastai) (1.9.0+cu102)\n",
            "Requirement already satisfied: pandas in /usr/local/lib/python3.7/dist-packages (from fastai) (1.1.5)\n",
            "Requirement already satisfied: torchvision>=0.8.2 in /usr/local/lib/python3.7/dist-packages (from fastai) (0.10.0+cu102)\n",
            "Requirement already satisfied: pillow>6.0.0 in /usr/local/lib/python3.7/dist-packages (from fastai) (7.1.2)\n",
            "Requirement already satisfied: pyyaml in /usr/local/lib/python3.7/dist-packages (from fastai) (3.13)\n",
            "Requirement already satisfied: numpy in /usr/local/lib/python3.7/dist-packages (from fastprogress>=0.2.4->fastai) (1.19.5)\n",
            "Requirement already satisfied: pyparsing>=2.0.2 in /usr/local/lib/python3.7/dist-packages (from packaging->fastai) (2.4.7)\n",
            "Requirement already satisfied: cycler>=0.10 in /usr/local/lib/python3.7/dist-packages (from matplotlib->fastai) (0.10.0)\n",
            "Requirement already satisfied: python-dateutil>=2.1 in /usr/local/lib/python3.7/dist-packages (from matplotlib->fastai) (2.8.1)\n",
            "Requirement already satisfied: kiwisolver>=1.0.1 in /usr/local/lib/python3.7/dist-packages (from matplotlib->fastai) (1.3.1)\n",
            "Requirement already satisfied: joblib>=0.11 in /usr/local/lib/python3.7/dist-packages (from scikit-learn->fastai) (1.0.1)\n",
            "Requirement already satisfied: urllib3!=1.25.0,!=1.25.1,<1.26,>=1.21.1 in /usr/local/lib/python3.7/dist-packages (from requests->fastai) (1.24.3)\n",
            "Requirement already satisfied: chardet<4,>=3.0.2 in /usr/local/lib/python3.7/dist-packages (from requests->fastai) (3.0.4)\n",
            "Requirement already satisfied: idna<3,>=2.5 in /usr/local/lib/python3.7/dist-packages (from requests->fastai) (2.10)\n",
            "Requirement already satisfied: certifi>=2017.4.17 in /usr/local/lib/python3.7/dist-packages (from requests->fastai) (2021.5.30)\n",
            "Requirement already satisfied: wasabi<1.1.0,>=0.4.0 in /usr/local/lib/python3.7/dist-packages (from spacy<4->fastai) (0.8.2)\n",
            "Requirement already satisfied: murmurhash<1.1.0,>=0.28.0 in /usr/local/lib/python3.7/dist-packages (from spacy<4->fastai) (1.0.5)\n",
            "Requirement already satisfied: cymem<2.1.0,>=2.0.2 in /usr/local/lib/python3.7/dist-packages (from spacy<4->fastai) (2.0.5)\n",
            "Requirement already satisfied: blis<0.5.0,>=0.4.0 in /usr/local/lib/python3.7/dist-packages (from spacy<4->fastai) (0.4.1)\n",
            "Requirement already satisfied: thinc==7.4.0 in /usr/local/lib/python3.7/dist-packages (from spacy<4->fastai) (7.4.0)\n",
            "Requirement already satisfied: plac<1.2.0,>=0.9.6 in /usr/local/lib/python3.7/dist-packages (from spacy<4->fastai) (1.1.3)\n",
            "Requirement already satisfied: preshed<3.1.0,>=3.0.2 in /usr/local/lib/python3.7/dist-packages (from spacy<4->fastai) (3.0.5)\n",
            "Requirement already satisfied: catalogue<1.1.0,>=0.0.7 in /usr/local/lib/python3.7/dist-packages (from spacy<4->fastai) (1.0.0)\n",
            "Requirement already satisfied: srsly<1.1.0,>=1.0.2 in /usr/local/lib/python3.7/dist-packages (from spacy<4->fastai) (1.0.5)\n",
            "Requirement already satisfied: setuptools in /usr/local/lib/python3.7/dist-packages (from spacy<4->fastai) (57.0.0)\n",
            "Requirement already satisfied: tqdm<5.0.0,>=4.38.0 in /usr/local/lib/python3.7/dist-packages (from spacy<4->fastai) (4.41.1)\n",
            "Requirement already satisfied: typing-extensions in /usr/local/lib/python3.7/dist-packages (from torch<1.10,>=1.7.0->fastai) (3.7.4.3)\n",
            "Requirement already satisfied: pytz>=2017.2 in /usr/local/lib/python3.7/dist-packages (from pandas->fastai) (2018.9)\n",
            "Requirement already satisfied: six in /usr/local/lib/python3.7/dist-packages (from cycler>=0.10->matplotlib->fastai) (1.15.0)\n",
            "Requirement already satisfied: importlib-metadata>=0.20; python_version < \"3.8\" in /usr/local/lib/python3.7/dist-packages (from catalogue<1.1.0,>=0.0.7->spacy<4->fastai) (4.5.0)\n",
            "Requirement already satisfied: zipp>=0.5 in /usr/local/lib/python3.7/dist-packages (from importlib-metadata>=0.20; python_version < \"3.8\"->catalogue<1.1.0,>=0.0.7->spacy<4->fastai) (3.4.1)\n",
            "Installing collected packages: fastai\n",
            "Successfully installed fastai-2.4\n"
          ],
          "name": "stdout"
        },
        {
          "output_type": "display_data",
          "data": {
            "application/vnd.colab-display-data+json": {
              "pip_warning": {
                "packages": [
                  "fastai"
                ]
              }
            }
          },
          "metadata": {
            "tags": []
          }
        }
      ]
    },
    {
      "cell_type": "markdown",
      "metadata": {
        "id": "M5ygvmqLeJh9"
      },
      "source": [
        "Mounting on Google Drive"
      ]
    },
    {
      "cell_type": "code",
      "metadata": {
        "colab": {
          "base_uri": "https://localhost:8080/"
        },
        "id": "CeV6lGgrbvR0",
        "outputId": "12637dac-e98f-4b44-c8c0-6a103d32ea4a"
      },
      "source": [
        "import fastbook\n",
        "from fastbook import *\n",
        "from fastai.vision.all import *\n",
        "from skimage import io as io\n",
        "from PIL import Image\n",
        "from zipfile import ZipFile\n",
        "import pandas as pd\n",
        "\n",
        "\n",
        "from google.colab import drive\n",
        "drive.mount('/content/drive')"
      ],
      "execution_count": 2,
      "outputs": [
        {
          "output_type": "stream",
          "text": [
            "Mounted at /content/drive\n"
          ],
          "name": "stdout"
        }
      ]
    },
    {
      "cell_type": "markdown",
      "metadata": {
        "id": "vWqqrEvp5O-d"
      },
      "source": [
        "Functions..."
      ]
    },
    {
      "cell_type": "code",
      "metadata": {
        "id": "aX7hQFDE5OJf"
      },
      "source": [
        "def curved_straight(boolean):\n",
        "  if boolean == 'False':\n",
        "      return(\"Rectos\")\n",
        "  elif boolean == 'True':\n",
        "    return(\"Curvos\")\n",
        "\n",
        "def is_curved(x): return x[0] == 'c'"
      ],
      "execution_count": 3,
      "outputs": []
    },
    {
      "cell_type": "markdown",
      "metadata": {
        "id": "gwD921o2ePaF"
      },
      "source": [
        "Loading trained algorithm to classify the experiments..."
      ]
    },
    {
      "cell_type": "code",
      "metadata": {
        "id": "tFzezX21QOwz",
        "colab": {
          "base_uri": "https://localhost:8080/"
        },
        "outputId": "ce1b2ff7-2227-4992-f57d-f575fcce0343"
      },
      "source": [
        "# load the trainned net\n",
        "learn = load_learner('/content/drive/MyDrive/Curvos_vs_Rectos/forTraining_8bits_curated/spermClassifier_18May2021.pkl') # load the trained model\n",
        "print(learn)"
      ],
      "execution_count": 5,
      "outputs": [
        {
          "output_type": "stream",
          "text": [
            "<fastai.learner.Learner object at 0x7f7630d26d10>\n"
          ],
          "name": "stdout"
        }
      ]
    },
    {
      "cell_type": "markdown",
      "metadata": {
        "id": "Y6aReQ6Ge1R2"
      },
      "source": [
        "Testing the algorithm case by case"
      ]
    },
    {
      "cell_type": "code",
      "metadata": {
        "colab": {
          "base_uri": "https://localhost:8080/",
          "height": 174
        },
        "id": "ayqPn5PdZvD8",
        "outputId": "10c1e535-b7b5-4ab6-e269-917d084d3115"
      },
      "source": [
        "path = '/content/drive/MyDrive/Curvos_vs_Rectos/43_Ch1.ome.tif'\n",
        "\n",
        "img = io.imread(path)\n",
        "img = PILImage.create(img)\n",
        "img.to_thumb(192)\n"
      ],
      "execution_count": null,
      "outputs": [
        {
          "output_type": "execute_result",
          "data": {
            "image/png": "[encoded data removed]",
            "text/plain": [
              "PILImage mode=L size=120x157"
            ]
          },
          "metadata": {
            "tags": []
          },
          "execution_count": 16
        }
      ]
    },
    {
      "cell_type": "markdown",
      "metadata": {
        "id": "Lxan0DjxYmXo"
      },
      "source": [
        ""
      ]
    },
    {
      "cell_type": "markdown",
      "metadata": {
        "id": "2cJvkLFde3JG"
      },
      "source": [
        "Sperm classifier working..."
      ]
    },
    {
      "cell_type": "code",
      "metadata": {
        "id": "luUBrT1wP22r",
        "colab": {
          "base_uri": "https://localhost:8080/",
          "height": 51
        },
        "outputId": "fbfaa83b-426c-4ba2-8b04-7213c8c3e9ad"
      },
      "source": [
        "is_curved,_,probs = learn.predict(img)\n",
        "print(f\"Is this a curved sperm?: {is_curved}.\")\n",
        "print(f\"Probability it's a curved sperm: {probs[1].item():.6f}\")"
      ],
      "execution_count": null,
      "outputs": [
        {
          "output_type": "display_data",
          "data": {
            "text/html": [
              ""
            ],
            "text/plain": [
              "<IPython.core.display.HTML object>"
            ]
          },
          "metadata": {
            "tags": []
          }
        },
        {
          "output_type": "stream",
          "text": [
            "Is this a curved sperm?: False.\n",
            "Probability it's a curved sperm: 0.002532\n"
          ],
          "name": "stdout"
        }
      ]
    },
    {
      "cell_type": "markdown",
      "metadata": {
        "id": "wpO7BEmOkL_Q"
      },
      "source": [
        "Analyzing experiments batches..."
      ]
    },
    {
      "cell_type": "code",
      "metadata": {
        "id": "cJrpZ8nAnXav",
        "colab": {
          "base_uri": "https://localhost:8080/",
          "height": 241
        },
        "outputId": "d6f6d4e7-4a18-4908-d8d5-a41c07bf2b29"
      },
      "source": [
        "filename = '/content/drive/MyDrive/Curvos_vs_Rectos/testing_tif.zip'\n",
        "\n",
        "rows_list = []\n",
        "counter=0\n",
        "with ZipFile(filename) as archive:\n",
        "    for entry in archive.infolist():\n",
        "        with archive.open(entry) as file:\n",
        "            print(archive.infolist())\n",
        "            counter+=1\n",
        "            img = io.imread(file, plugin='tifffile')\n",
        "            img = PILImage.create(img)\n",
        "            filename_jpg =  file.name.replace('testing_tif/','') # folder name\n",
        "            filename = filename_jpg.replace('.tif','') \n",
        "            is_curved,_,probs = learn.predict(img) # analyze each image and calculate probabilities\n",
        "            array = [filename, filename_jpg, entry.file_size, img.width, img.height, curved_straight(is_curved), probs[1].item(), probs[0].item()]\n",
        "            print(str(round(counter/len(archive.infolist())*100,2))+\"%\"+\" completed \", array)\n",
        "            rows_list.append(array)\n",
        "            if curved_straight(is_curved) == 'Curvos':\n",
        "               img.save('/content/drive/MyDrive/Curvos_vs_Rectos/testing_Curved_vs_Straights/curved/'+ str(round(probs[1].item()*100,1)) + '%_' + filename_jpg)\n",
        "            else: \n",
        "               img.save('/content/drive/MyDrive/Curvos_vs_Rectos/testing_Curved_vs_Straights/straight/'+ str(round(probs[1].item()*100,1)) + '%_' + filename_jpg)\n",
        "\n",
        "\n",
        "DF = pd.DataFrame(rows_list, columns=['image name','image', 'size (bytes)', 'width (px)', 'height (px)', 'Classification', 'Prob Curved', 'Prob Straight'])\n",
        "DF.to_csv('/content/drive/MyDrive/Curvos_vs_Rectos/testing_Curved_vs_Straights/test_CSV.csv')   "
      ],
      "execution_count": null,
      "outputs": [
        {
          "output_type": "stream",
          "text": [
            "TiffTag 266: 0 is not a valid FILLORDER\n",
            "OME series: cannot handle discontiguous storage (157, 120) != (157, 51)\n"
          ],
          "name": "stderr"
        },
        {
          "output_type": "stream",
          "text": [
            "[<ZipInfo filename='testing_tif/43_Ch1.ome.tif' compress_type=deflate external_attr=0x20 file_size=20920 compress_size=9137>, <ZipInfo filename='testing_tif/53_Ch1.ome.tif' compress_type=deflate external_attr=0x20 file_size=19000 compress_size=8451>, <ZipInfo filename='testing_tif/6_Ch1.ome.tif' compress_type=deflate external_attr=0x20 file_size=16958 compress_size=8023>]\n"
          ],
          "name": "stdout"
        },
        {
          "output_type": "display_data",
          "data": {
            "text/html": [
              ""
            ],
            "text/plain": [
              "<IPython.core.display.HTML object>"
            ]
          },
          "metadata": {
            "tags": []
          }
        },
        {
          "output_type": "stream",
          "text": [
            "TiffTag 266: 0 is not a valid FILLORDER\n",
            "OME series: cannot handle discontiguous storage (141, 120) != (141, 51)\n"
          ],
          "name": "stderr"
        },
        {
          "output_type": "stream",
          "text": [
            "33.33% completed  ['43_Ch1.ome', '43_Ch1.ome.tif', 20920, 120, 157, 'Rectos', 0.0025322288274765015, 0.9974677562713623]\n",
            "[<ZipInfo filename='testing_tif/43_Ch1.ome.tif' compress_type=deflate external_attr=0x20 file_size=20920 compress_size=9137>, <ZipInfo filename='testing_tif/53_Ch1.ome.tif' compress_type=deflate external_attr=0x20 file_size=19000 compress_size=8451>, <ZipInfo filename='testing_tif/6_Ch1.ome.tif' compress_type=deflate external_attr=0x20 file_size=16958 compress_size=8023>]\n"
          ],
          "name": "stdout"
        },
        {
          "output_type": "display_data",
          "data": {
            "text/html": [
              ""
            ],
            "text/plain": [
              "<IPython.core.display.HTML object>"
            ]
          },
          "metadata": {
            "tags": []
          }
        },
        {
          "output_type": "stream",
          "text": [
            "TiffTag 266: 0 is not a valid FILLORDER\n",
            "OME series: cannot handle discontiguous storage (124, 120) != (124, 45)\n"
          ],
          "name": "stderr"
        },
        {
          "output_type": "stream",
          "text": [
            "66.67% completed  ['53_Ch1.ome', '53_Ch1.ome.tif', 19000, 120, 141, 'Curvos', 0.9999876022338867, 1.2383900866552722e-05]\n",
            "[<ZipInfo filename='testing_tif/43_Ch1.ome.tif' compress_type=deflate external_attr=0x20 file_size=20920 compress_size=9137>, <ZipInfo filename='testing_tif/53_Ch1.ome.tif' compress_type=deflate external_attr=0x20 file_size=19000 compress_size=8451>, <ZipInfo filename='testing_tif/6_Ch1.ome.tif' compress_type=deflate external_attr=0x20 file_size=16958 compress_size=8023>]\n"
          ],
          "name": "stdout"
        },
        {
          "output_type": "display_data",
          "data": {
            "text/html": [
              ""
            ],
            "text/plain": [
              "<IPython.core.display.HTML object>"
            ]
          },
          "metadata": {
            "tags": []
          }
        },
        {
          "output_type": "stream",
          "text": [
            "100.0% completed  ['6_Ch1.ome', '6_Ch1.ome.tif', 16958, 120, 124, 'Curvos', 0.5433697700500488, 0.4566302001476288]\n"
          ],
          "name": "stdout"
        }
      ]
    }
  ]
}